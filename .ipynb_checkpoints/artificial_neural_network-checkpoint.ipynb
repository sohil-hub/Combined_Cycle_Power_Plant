{
 "cells": [
  {
   "cell_type": "markdown",
   "metadata": {
    "colab_type": "text",
    "id": "3cbb7fRy-eyr"
   },
   "source": [
    "# Artificial Neural Network"
   ]
  },
  {
   "cell_type": "markdown",
   "metadata": {
    "colab_type": "text",
    "id": "8sNDnxE2-pwE"
   },
   "source": [
    "### Importing the libraries"
   ]
  },
  {
   "cell_type": "code",
   "execution_count": 1,
   "metadata": {
    "colab": {},
    "colab_type": "code",
    "id": "lxChR1Rk-umf"
   },
   "outputs": [],
   "source": [
    "import numpy as np\n",
    "import pandas as pd\n",
    "import tensorflow as tf"
   ]
  },
  {
   "cell_type": "code",
   "execution_count": 2,
   "metadata": {
    "colab": {
     "base_uri": "https://localhost:8080/",
     "height": 34
    },
    "colab_type": "code",
    "id": "uBTqR3nacj0e",
    "outputId": "4c0bd183-e424-429a-9fba-ceb841c06888"
   },
   "outputs": [
    {
     "data": {
      "text/plain": [
       "'2.0.0'"
      ]
     },
     "execution_count": 2,
     "metadata": {},
     "output_type": "execute_result"
    }
   ],
   "source": [
    "tf.__version__"
   ]
  },
  {
   "cell_type": "markdown",
   "metadata": {
    "colab_type": "text",
    "id": "AG3FQEch-yuA"
   },
   "source": [
    "## Part 1 - Data Preprocessing"
   ]
  },
  {
   "cell_type": "markdown",
   "metadata": {
    "colab_type": "text",
    "id": "-4zq8Mza_D9O"
   },
   "source": [
    "### Importing the dataset"
   ]
  },
  {
   "cell_type": "code",
   "execution_count": 4,
   "metadata": {
    "colab": {},
    "colab_type": "code",
    "id": "B9CV13Co_HHM"
   },
   "outputs": [],
   "source": [
    "dataset = pd.read_excel('Data.xlsx')\n",
    "X = dataset.iloc[:, :-1].values\n",
    "y = dataset.iloc[:, -1].values"
   ]
  },
  {
   "cell_type": "code",
   "execution_count": 5,
   "metadata": {},
   "outputs": [
    {
     "data": {
      "text/html": [
       "<div>\n",
       "<style scoped>\n",
       "    .dataframe tbody tr th:only-of-type {\n",
       "        vertical-align: middle;\n",
       "    }\n",
       "\n",
       "    .dataframe tbody tr th {\n",
       "        vertical-align: top;\n",
       "    }\n",
       "\n",
       "    .dataframe thead th {\n",
       "        text-align: right;\n",
       "    }\n",
       "</style>\n",
       "<table border=\"1\" class=\"dataframe\">\n",
       "  <thead>\n",
       "    <tr style=\"text-align: right;\">\n",
       "      <th></th>\n",
       "      <th>AT</th>\n",
       "      <th>V</th>\n",
       "      <th>AP</th>\n",
       "      <th>RH</th>\n",
       "      <th>PE</th>\n",
       "    </tr>\n",
       "  </thead>\n",
       "  <tbody>\n",
       "    <tr>\n",
       "      <th>0</th>\n",
       "      <td>14.96</td>\n",
       "      <td>41.76</td>\n",
       "      <td>1024.07</td>\n",
       "      <td>73.17</td>\n",
       "      <td>463.26</td>\n",
       "    </tr>\n",
       "    <tr>\n",
       "      <th>1</th>\n",
       "      <td>25.18</td>\n",
       "      <td>62.96</td>\n",
       "      <td>1020.04</td>\n",
       "      <td>59.08</td>\n",
       "      <td>444.37</td>\n",
       "    </tr>\n",
       "    <tr>\n",
       "      <th>2</th>\n",
       "      <td>5.11</td>\n",
       "      <td>39.40</td>\n",
       "      <td>1012.16</td>\n",
       "      <td>92.14</td>\n",
       "      <td>488.56</td>\n",
       "    </tr>\n",
       "    <tr>\n",
       "      <th>3</th>\n",
       "      <td>20.86</td>\n",
       "      <td>57.32</td>\n",
       "      <td>1010.24</td>\n",
       "      <td>76.64</td>\n",
       "      <td>446.48</td>\n",
       "    </tr>\n",
       "    <tr>\n",
       "      <th>4</th>\n",
       "      <td>10.82</td>\n",
       "      <td>37.50</td>\n",
       "      <td>1009.23</td>\n",
       "      <td>96.62</td>\n",
       "      <td>473.90</td>\n",
       "    </tr>\n",
       "  </tbody>\n",
       "</table>\n",
       "</div>"
      ],
      "text/plain": [
       "      AT      V       AP     RH      PE\n",
       "0  14.96  41.76  1024.07  73.17  463.26\n",
       "1  25.18  62.96  1020.04  59.08  444.37\n",
       "2   5.11  39.40  1012.16  92.14  488.56\n",
       "3  20.86  57.32  1010.24  76.64  446.48\n",
       "4  10.82  37.50  1009.23  96.62  473.90"
      ]
     },
     "execution_count": 5,
     "metadata": {},
     "output_type": "execute_result"
    }
   ],
   "source": [
    "dataset.head()"
   ]
  },
  {
   "cell_type": "markdown",
   "metadata": {
    "colab_type": "text",
    "id": "VC6omXel_Up0"
   },
   "source": [
    "### Splitting the dataset into the Training set and Test set"
   ]
  },
  {
   "cell_type": "code",
   "execution_count": 7,
   "metadata": {
    "colab": {},
    "colab_type": "code",
    "id": "L5edeb2r_agx"
   },
   "outputs": [],
   "source": [
    "from sklearn.model_selection import train_test_split\n",
    "X_train, X_test, y_train, y_test = train_test_split(X, y, test_size = 0.2, random_state = 0)"
   ]
  },
  {
   "cell_type": "code",
   "execution_count": 8,
   "metadata": {},
   "outputs": [],
   "source": [
    "from sklearn.preprocessing import StandardScaler\n",
    "sc = StandardScaler()\n",
    "X_train = sc.fit_transform(X_train)\n",
    "X_test = sc.transform(X_test)"
   ]
  },
  {
   "cell_type": "markdown",
   "metadata": {
    "colab_type": "text",
    "id": "_mSLlAT9_eyI"
   },
   "source": [
    "## Part 2 - Building the ANN"
   ]
  },
  {
   "cell_type": "markdown",
   "metadata": {
    "colab_type": "text",
    "id": "CsBULd_f_wLY"
   },
   "source": [
    "### Initializing the ANN"
   ]
  },
  {
   "cell_type": "code",
   "execution_count": 9,
   "metadata": {
    "colab": {},
    "colab_type": "code",
    "id": "J6Hd97Ls__Nz"
   },
   "outputs": [],
   "source": [
    "ann = tf.keras.models.Sequential()"
   ]
  },
  {
   "cell_type": "markdown",
   "metadata": {
    "colab_type": "text",
    "id": "iitAFJS_ABUn"
   },
   "source": [
    "### Adding the input layer and the first hidden layer"
   ]
  },
  {
   "cell_type": "code",
   "execution_count": 10,
   "metadata": {
    "colab": {},
    "colab_type": "code",
    "id": "ksO_Vv40AHix"
   },
   "outputs": [],
   "source": [
    "ann.add(tf.keras.layers.Dense(units=6, activation='relu'))"
   ]
  },
  {
   "cell_type": "markdown",
   "metadata": {
    "colab_type": "text",
    "id": "-lb4kK_wAKbs"
   },
   "source": [
    "### Adding the second hidden layer"
   ]
  },
  {
   "cell_type": "code",
   "execution_count": 11,
   "metadata": {
    "colab": {},
    "colab_type": "code",
    "id": "c2357OqEAQOQ"
   },
   "outputs": [],
   "source": [
    "ann.add(tf.keras.layers.Dense(units=6, activation='relu'))"
   ]
  },
  {
   "cell_type": "markdown",
   "metadata": {
    "colab_type": "text",
    "id": "jwMOmKb3AdBY"
   },
   "source": [
    "### Adding the output layer"
   ]
  },
  {
   "cell_type": "code",
   "execution_count": 12,
   "metadata": {
    "colab": {},
    "colab_type": "code",
    "id": "YFATpzsUAkLL"
   },
   "outputs": [],
   "source": [
    "ann.add(tf.keras.layers.Dense(units=1))"
   ]
  },
  {
   "cell_type": "markdown",
   "metadata": {
    "colab_type": "text",
    "id": "fq7e4fF6A1yy"
   },
   "source": [
    "## Part 3 - Training the ANN"
   ]
  },
  {
   "cell_type": "markdown",
   "metadata": {
    "colab_type": "text",
    "id": "qDeylAs2An25"
   },
   "source": [
    "### Compiling the ANN"
   ]
  },
  {
   "cell_type": "code",
   "execution_count": 13,
   "metadata": {
    "colab": {},
    "colab_type": "code",
    "id": "pesgbWlCAtB4"
   },
   "outputs": [],
   "source": [
    "ann.compile(optimizer = 'adam', loss = 'mean_squared_error')"
   ]
  },
  {
   "cell_type": "markdown",
   "metadata": {
    "colab_type": "text",
    "id": "YjVuiybYOo7r"
   },
   "source": [
    "### Training the ANN model on the Training set"
   ]
  },
  {
   "cell_type": "code",
   "execution_count": 14,
   "metadata": {
    "colab": {
     "base_uri": "https://localhost:8080/",
     "height": 1000
    },
    "colab_type": "code",
    "id": "c_vV-tiiA5zn",
    "outputId": "4a2b6ee6-ed75-4698-9069-b250e613803f"
   },
   "outputs": [
    {
     "name": "stdout",
     "output_type": "stream",
     "text": [
      "Train on 7654 samples\n",
      "Epoch 1/100\n",
      "7654/7654 [==============================] - 1s 88us/sample - loss: 204993.0156\n",
      "Epoch 2/100\n",
      "7654/7654 [==============================] - 0s 25us/sample - loss: 192091.7942\n",
      "Epoch 3/100\n",
      "7654/7654 [==============================] - 0s 25us/sample - loss: 154563.3656\n",
      "Epoch 4/100\n",
      "7654/7654 [==============================] - 0s 25us/sample - loss: 103763.5017\n",
      "Epoch 5/100\n",
      "7654/7654 [==============================] - 0s 25us/sample - loss: 62484.6412\n",
      "Epoch 6/100\n",
      "7654/7654 [==============================] - 0s 25us/sample - loss: 35346.6498\n",
      "Epoch 7/100\n",
      "7654/7654 [==============================] - 0s 25us/sample - loss: 19355.8080\n",
      "Epoch 8/100\n",
      "7654/7654 [==============================] - 0s 25us/sample - loss: 11673.7898\n",
      "Epoch 9/100\n",
      "7654/7654 [==============================] - 0s 26us/sample - loss: 7992.0834\n",
      "Epoch 10/100\n",
      "7654/7654 [==============================] - 0s 25us/sample - loss: 5680.9795\n",
      "Epoch 11/100\n",
      "7654/7654 [==============================] - 0s 25us/sample - loss: 4055.1387\n",
      "Epoch 12/100\n",
      "7654/7654 [==============================] - 0s 25us/sample - loss: 2945.6622\n",
      "Epoch 13/100\n",
      "7654/7654 [==============================] - 0s 25us/sample - loss: 2201.5099\n",
      "Epoch 14/100\n",
      "7654/7654 [==============================] - 0s 26us/sample - loss: 1707.2423\n",
      "Epoch 15/100\n",
      "7654/7654 [==============================] - 0s 29us/sample - loss: 1361.9070\n",
      "Epoch 16/100\n",
      "7654/7654 [==============================] - 0s 26us/sample - loss: 1114.4974\n",
      "Epoch 17/100\n",
      "7654/7654 [==============================] - 0s 25us/sample - loss: 930.1794\n",
      "Epoch 18/100\n",
      "7654/7654 [==============================] - 0s 25us/sample - loss: 782.8985\n",
      "Epoch 19/100\n",
      "7654/7654 [==============================] - 0s 25us/sample - loss: 661.7703\n",
      "Epoch 20/100\n",
      "7654/7654 [==============================] - 0s 25us/sample - loss: 560.0672\n",
      "Epoch 21/100\n",
      "7654/7654 [==============================] - 0s 25us/sample - loss: 471.3277\n",
      "Epoch 22/100\n",
      "7654/7654 [==============================] - 0s 25us/sample - loss: 393.7299\n",
      "Epoch 23/100\n",
      "7654/7654 [==============================] - 0s 25us/sample - loss: 326.2063\n",
      "Epoch 24/100\n",
      "7654/7654 [==============================] - 0s 26us/sample - loss: 268.3201\n",
      "Epoch 25/100\n",
      "7654/7654 [==============================] - 0s 25us/sample - loss: 217.5417\n",
      "Epoch 26/100\n",
      "7654/7654 [==============================] - 0s 25us/sample - loss: 174.0002\n",
      "Epoch 27/100\n",
      "7654/7654 [==============================] - 0s 25us/sample - loss: 137.5579\n",
      "Epoch 28/100\n",
      "7654/7654 [==============================] - 0s 26us/sample - loss: 108.0817\n",
      "Epoch 29/100\n",
      "7654/7654 [==============================] - 0s 25us/sample - loss: 84.9221\n",
      "Epoch 30/100\n",
      "7654/7654 [==============================] - 0s 25us/sample - loss: 66.9407\n",
      "Epoch 31/100\n",
      "7654/7654 [==============================] - 0s 26us/sample - loss: 54.2728\n",
      "Epoch 32/100\n",
      "7654/7654 [==============================] - 0s 28us/sample - loss: 45.0594\n",
      "Epoch 33/100\n",
      "7654/7654 [==============================] - 0s 27us/sample - loss: 38.2823\n",
      "Epoch 34/100\n",
      "7654/7654 [==============================] - 0s 32us/sample - loss: 33.3584\n",
      "Epoch 35/100\n",
      "7654/7654 [==============================] - 0s 28us/sample - loss: 30.0974\n",
      "Epoch 36/100\n",
      "7654/7654 [==============================] - 0s 27us/sample - loss: 27.5660\n",
      "Epoch 37/100\n",
      "7654/7654 [==============================] - 0s 29us/sample - loss: 25.8810\n",
      "Epoch 38/100\n",
      "7654/7654 [==============================] - 0s 24us/sample - loss: 24.7412\n",
      "Epoch 39/100\n",
      "7654/7654 [==============================] - 0s 24us/sample - loss: 23.8987\n",
      "Epoch 40/100\n",
      "7654/7654 [==============================] - 0s 24us/sample - loss: 23.1834\n",
      "Epoch 41/100\n",
      "7654/7654 [==============================] - 0s 24us/sample - loss: 22.6759\n",
      "Epoch 42/100\n",
      "7654/7654 [==============================] - 0s 24us/sample - loss: 22.3389\n",
      "Epoch 43/100\n",
      "7654/7654 [==============================] - 0s 24us/sample - loss: 21.9959\n",
      "Epoch 44/100\n",
      "7654/7654 [==============================] - 0s 29us/sample - loss: 21.8740\n",
      "Epoch 45/100\n",
      "7654/7654 [==============================] - 0s 25us/sample - loss: 21.5994\n",
      "Epoch 46/100\n",
      "7654/7654 [==============================] - 0s 25us/sample - loss: 21.4751\n",
      "Epoch 47/100\n",
      "7654/7654 [==============================] - 0s 29us/sample - loss: 21.4174\n",
      "Epoch 48/100\n",
      "7654/7654 [==============================] - 0s 29us/sample - loss: 21.3477\n",
      "Epoch 49/100\n",
      "7654/7654 [==============================] - 0s 27us/sample - loss: 21.2387\n",
      "Epoch 50/100\n",
      "7654/7654 [==============================] - 0s 27us/sample - loss: 21.2565\n",
      "Epoch 51/100\n",
      "7654/7654 [==============================] - 0s 25us/sample - loss: 21.1892\n",
      "Epoch 52/100\n",
      "7654/7654 [==============================] - 0s 27us/sample - loss: 21.0344\n",
      "Epoch 53/100\n",
      "7654/7654 [==============================] - 0s 31us/sample - loss: 21.1070\n",
      "Epoch 54/100\n",
      "7654/7654 [==============================] - 0s 30us/sample - loss: 21.0984\n",
      "Epoch 55/100\n",
      "7654/7654 [==============================] - 0s 30us/sample - loss: 21.1437\n",
      "Epoch 56/100\n",
      "7654/7654 [==============================] - 0s 29us/sample - loss: 20.9782\n",
      "Epoch 57/100\n",
      "7654/7654 [==============================] - 0s 30us/sample - loss: 20.9035\n",
      "Epoch 58/100\n",
      "7654/7654 [==============================] - 0s 29us/sample - loss: 20.9596\n",
      "Epoch 59/100\n",
      "7654/7654 [==============================] - 0s 29us/sample - loss: 20.9856\n",
      "Epoch 60/100\n",
      "7654/7654 [==============================] - 0s 30us/sample - loss: 21.0083\n",
      "Epoch 61/100\n",
      "7654/7654 [==============================] - 0s 30us/sample - loss: 20.9124\n",
      "Epoch 62/100\n",
      "7654/7654 [==============================] - 0s 28us/sample - loss: 20.9303\n",
      "Epoch 63/100\n",
      "7654/7654 [==============================] - 0s 29us/sample - loss: 21.0693\n",
      "Epoch 64/100\n",
      "7654/7654 [==============================] - 0s 29us/sample - loss: 20.8826\n",
      "Epoch 65/100\n",
      "7654/7654 [==============================] - 0s 28us/sample - loss: 20.8099\n",
      "Epoch 66/100\n",
      "7654/7654 [==============================] - 0s 30us/sample - loss: 20.9786\n",
      "Epoch 67/100\n",
      "7654/7654 [==============================] - 0s 30us/sample - loss: 20.8289\n",
      "Epoch 68/100\n",
      "7654/7654 [==============================] - 0s 28us/sample - loss: 20.6960\n",
      "Epoch 69/100\n",
      "7654/7654 [==============================] - 0s 30us/sample - loss: 20.7941\n",
      "Epoch 70/100\n",
      "7654/7654 [==============================] - 0s 29us/sample - loss: 20.8040\n",
      "Epoch 71/100\n",
      "7654/7654 [==============================] - 0s 28us/sample - loss: 20.6885\n",
      "Epoch 72/100\n",
      "7654/7654 [==============================] - 0s 27us/sample - loss: 20.8947\n",
      "Epoch 73/100\n",
      "7654/7654 [==============================] - 0s 28us/sample - loss: 20.8007\n",
      "Epoch 74/100\n",
      "7654/7654 [==============================] - 0s 24us/sample - loss: 20.7863\n",
      "Epoch 75/100\n",
      "7654/7654 [==============================] - 0s 24us/sample - loss: 20.8423\n",
      "Epoch 76/100\n",
      "7654/7654 [==============================] - 0s 27us/sample - loss: 20.8338\n",
      "Epoch 77/100\n",
      "7654/7654 [==============================] - 0s 24us/sample - loss: 20.8993\n",
      "Epoch 78/100\n",
      "7654/7654 [==============================] - 0s 24us/sample - loss: 20.8116\n",
      "Epoch 79/100\n",
      "7654/7654 [==============================] - 0s 24us/sample - loss: 20.7531\n",
      "Epoch 80/100\n",
      "7654/7654 [==============================] - 0s 24us/sample - loss: 20.6856\n",
      "Epoch 81/100\n",
      "7654/7654 [==============================] - 0s 24us/sample - loss: 20.7359\n",
      "Epoch 82/100\n",
      "7654/7654 [==============================] - 0s 27us/sample - loss: 20.7500\n",
      "Epoch 83/100\n",
      "7654/7654 [==============================] - 0s 25us/sample - loss: 20.7320\n",
      "Epoch 84/100\n",
      "7654/7654 [==============================] - 0s 25us/sample - loss: 20.7269\n",
      "Epoch 85/100\n",
      "7654/7654 [==============================] - 0s 25us/sample - loss: 20.7386\n",
      "Epoch 86/100\n",
      "7654/7654 [==============================] - 0s 26us/sample - loss: 20.7944\n",
      "Epoch 87/100\n",
      "7654/7654 [==============================] - 0s 25us/sample - loss: 20.6919\n",
      "Epoch 88/100\n",
      "7654/7654 [==============================] - 0s 25us/sample - loss: 20.5962\n",
      "Epoch 89/100\n",
      "7654/7654 [==============================] - 0s 25us/sample - loss: 20.6921\n",
      "Epoch 90/100\n",
      "7654/7654 [==============================] - 0s 25us/sample - loss: 20.6596\n",
      "Epoch 91/100\n",
      "7654/7654 [==============================] - 0s 25us/sample - loss: 20.7059\n",
      "Epoch 92/100\n",
      "7654/7654 [==============================] - 0s 25us/sample - loss: 20.6417\n",
      "Epoch 93/100\n",
      "7654/7654 [==============================] - 0s 28us/sample - loss: 20.6204\n",
      "Epoch 94/100\n",
      "7654/7654 [==============================] - 0s 35us/sample - loss: 20.7443\n",
      "Epoch 95/100\n",
      "7654/7654 [==============================] - 0s 25us/sample - loss: 20.6245\n",
      "Epoch 96/100\n",
      "7654/7654 [==============================] - 0s 29us/sample - loss: 20.6996\n",
      "Epoch 97/100\n",
      "7654/7654 [==============================] - 0s 29us/sample - loss: 20.6794\n",
      "Epoch 98/100\n",
      "7654/7654 [==============================] - 0s 27us/sample - loss: 20.6307\n",
      "Epoch 99/100\n",
      "7654/7654 [==============================] - 0s 25us/sample - loss: 20.6743\n",
      "Epoch 100/100\n",
      "7654/7654 [==============================] - 0s 26us/sample - loss: 20.7950\n"
     ]
    },
    {
     "data": {
      "text/plain": [
       "<tensorflow.python.keras.callbacks.History at 0x7ff3bf2d1c10>"
      ]
     },
     "execution_count": 14,
     "metadata": {},
     "output_type": "execute_result"
    }
   ],
   "source": [
    "ann.fit(X_train, y_train, batch_size = 32, epochs = 100)"
   ]
  },
  {
   "cell_type": "markdown",
   "metadata": {
    "colab_type": "text",
    "id": "0H0zKKNEBLD5"
   },
   "source": [
    "### Predicting the results of the Test set"
   ]
  },
  {
   "cell_type": "code",
   "execution_count": 15,
   "metadata": {
    "colab": {
     "base_uri": "https://localhost:8080/",
     "height": 134
    },
    "colab_type": "code",
    "id": "IA0yApEmBG1X",
    "outputId": "cb981e1f-9204-4a2a-fece-9d66a6919189"
   },
   "outputs": [
    {
     "name": "stdout",
     "output_type": "stream",
     "text": [
      "[[431.3  431.23]\n",
      " [458.58 460.01]\n",
      " [462.8  461.14]\n",
      " ...\n",
      " [469.55 473.26]\n",
      " [441.93 438.  ]\n",
      " [461.48 463.28]]\n"
     ]
    }
   ],
   "source": [
    "y_pred = ann.predict(X_test)\n",
    "np.set_printoptions(precision=2)\n",
    "print(np.concatenate((y_pred.reshape(len(y_pred),1), y_test.reshape(len(y_test),1)),1))"
   ]
  },
  {
   "cell_type": "markdown",
   "metadata": {},
   "source": [
    "# Calculate the R2_Score"
   ]
  },
  {
   "cell_type": "code",
   "execution_count": 16,
   "metadata": {},
   "outputs": [
    {
     "data": {
      "text/plain": [
       "0.9357243689762723"
      ]
     },
     "execution_count": 16,
     "metadata": {},
     "output_type": "execute_result"
    }
   ],
   "source": [
    "from sklearn.metrics import r2_score\n",
    "r2_score(y_test, y_pred)"
   ]
  },
  {
   "cell_type": "markdown",
   "metadata": {},
   "source": [
    "# Saving the  scaler\n"
   ]
  },
  {
   "cell_type": "code",
   "execution_count": 18,
   "metadata": {},
   "outputs": [
    {
     "data": {
      "text/plain": [
       "['scaler']"
      ]
     },
     "execution_count": 18,
     "metadata": {},
     "output_type": "execute_result"
    }
   ],
   "source": [
    "import joblib\n",
    "joblib.dump(sc, 'scaler', compress=True)"
   ]
  },
  {
   "cell_type": "code",
   "execution_count": 23,
   "metadata": {},
   "outputs": [],
   "source": [
    "scaler = joblib.load('scaler')"
   ]
  },
  {
   "cell_type": "markdown",
   "metadata": {},
   "source": [
    "# Saving the model"
   ]
  },
  {
   "cell_type": "code",
   "execution_count": 19,
   "metadata": {},
   "outputs": [],
   "source": [
    "ann.save('regressor.h5')"
   ]
  },
  {
   "cell_type": "code",
   "execution_count": 20,
   "metadata": {},
   "outputs": [
    {
     "name": "stdout",
     "output_type": "stream",
     "text": [
      "WARNING:tensorflow:Sequential models without an `input_shape` passed to the first layer cannot reload their optimizer state. As a result, your model isstarting with a freshly initialized optimizer.\n",
      "Model: \"sequential\"\n",
      "_________________________________________________________________\n",
      "Layer (type)                 Output Shape              Param #   \n",
      "=================================================================\n",
      "dense (Dense)                multiple                  30        \n",
      "_________________________________________________________________\n",
      "dense_1 (Dense)              multiple                  42        \n",
      "_________________________________________________________________\n",
      "dense_2 (Dense)              multiple                  7         \n",
      "=================================================================\n",
      "Total params: 79\n",
      "Trainable params: 79\n",
      "Non-trainable params: 0\n",
      "_________________________________________________________________\n"
     ]
    }
   ],
   "source": [
    "model = tf.keras.models.load_model('regressor.h5')\n",
    "model.summary()"
   ]
  },
  {
   "cell_type": "code",
   "execution_count": 21,
   "metadata": {},
   "outputs": [
    {
     "name": "stdout",
     "output_type": "stream",
     "text": [
      "Model: \"sequential\"\n",
      "_________________________________________________________________\n",
      "Layer (type)                 Output Shape              Param #   \n",
      "=================================================================\n",
      "dense (Dense)                multiple                  30        \n",
      "_________________________________________________________________\n",
      "dense_1 (Dense)              multiple                  42        \n",
      "_________________________________________________________________\n",
      "dense_2 (Dense)              multiple                  7         \n",
      "=================================================================\n",
      "Total params: 79\n",
      "Trainable params: 79\n",
      "Non-trainable params: 0\n",
      "_________________________________________________________________\n"
     ]
    }
   ],
   "source": [
    "ann.summary()"
   ]
  },
  {
   "cell_type": "markdown",
   "metadata": {},
   "source": [
    "# predict an energy using same model and loaded model"
   ]
  },
  {
   "cell_type": "code",
   "execution_count": 22,
   "metadata": {},
   "outputs": [
    {
     "data": {
      "text/plain": [
       "array([[443.98]], dtype=float32)"
      ]
     },
     "execution_count": 22,
     "metadata": {},
     "output_type": "execute_result"
    }
   ],
   "source": [
    "ann.predict(sc.transform([[25.18, 62.96, 1020.04, 59.08]]))"
   ]
  },
  {
   "cell_type": "code",
   "execution_count": 25,
   "metadata": {},
   "outputs": [],
   "source": [
    "x = model.predict(scaler.transform([[25.18, 62.96, 1020.04, 59.08]]))"
   ]
  },
  {
   "cell_type": "code",
   "execution_count": 27,
   "metadata": {},
   "outputs": [
    {
     "data": {
      "text/plain": [
       "numpy.ndarray"
      ]
     },
     "execution_count": 27,
     "metadata": {},
     "output_type": "execute_result"
    }
   ],
   "source": [
    "type(x)"
   ]
  },
  {
   "cell_type": "code",
   "execution_count": 28,
   "metadata": {},
   "outputs": [
    {
     "data": {
      "text/plain": [
       "(1, 1)"
      ]
     },
     "execution_count": 28,
     "metadata": {},
     "output_type": "execute_result"
    }
   ],
   "source": [
    "x.shape"
   ]
  },
  {
   "cell_type": "code",
   "execution_count": 29,
   "metadata": {},
   "outputs": [
    {
     "data": {
      "text/plain": [
       "array([[443.98]], dtype=float32)"
      ]
     },
     "execution_count": 29,
     "metadata": {},
     "output_type": "execute_result"
    }
   ],
   "source": [
    "x\n"
   ]
  },
  {
   "cell_type": "code",
   "execution_count": 33,
   "metadata": {},
   "outputs": [
    {
     "data": {
      "text/plain": [
       "443.9823913574219"
      ]
     },
     "execution_count": 33,
     "metadata": {},
     "output_type": "execute_result"
    }
   ],
   "source": [
    "float(x[0][0])"
   ]
  },
  {
   "cell_type": "code",
   "execution_count": null,
   "metadata": {},
   "outputs": [],
   "source": []
  }
 ],
 "metadata": {
  "colab": {
   "collapsed_sections": [],
   "name": "Artificial Neural Network",
   "provenance": [],
   "toc_visible": true
  },
  "kernelspec": {
   "display_name": "Python 3",
   "language": "python",
   "name": "python3"
  },
  "language_info": {
   "codemirror_mode": {
    "name": "ipython",
    "version": 3
   },
   "file_extension": ".py",
   "mimetype": "text/x-python",
   "name": "python",
   "nbconvert_exporter": "python",
   "pygments_lexer": "ipython3",
   "version": "3.7.10"
  }
 },
 "nbformat": 4,
 "nbformat_minor": 1
}
